{
 "cells": [
  {
   "cell_type": "markdown",
   "metadata": {},
   "source": [
    "# Header for Software License\n",
    "\n",
    "                                                         \n",
    "Copyright (C) 2014-2024, Institute for Defense Analyses        \n",
    "4850 Mark Center Drive, Alexandria, VA; 703-845-2500           \n",
    "This material may be reproduced by or for the US Government    \n",
    "pursuant to the copyright license under the clauses at DFARS   \n",
    "252.227-7013 and 252.227-7014.                                 \n",
    "                                                               \n",
    "LARC : Linear Algebra via Recursive Compression                \n",
    "Authors:                                                       \n",
    "   * Steve Cuccaro (IDA-CCS)                                    \n",
    "   * John Daly (LPS)                                            \n",
    "   * John Gilbert (UCSB, IDA adjunct)                           \n",
    "   * Jenny Zito (IDA-CCS)                                       \n",
    "                                                               \n",
    "Additional contributors are listed in \"LARCcontributors\".      \n",
    "                                                               \n",
    "Questions: larc@super.org                                      \n",
    "                                                                \n",
    "All rights reserved.                                       \n",
    "                                                           \n",
    "Redistribution and use in source and binary forms, with or  \n",
    "without modification, are permitted provided that the\n",
    "following conditions are met:                          \n",
    "  * Redistribution of source code must retain the above copyright notice, this list of conditions and the following disclaimer. \n",
    "  *  Redistribution in binary form must reproduce the above  copyright notice, this list of conditions and the  following disclaimer in the documentation and/or other  materials provided with the distribution.  \n",
    "  * Neither the name of the copyright holder nor the names of its contributors may be used to endorse or promote products derived from this software without specific prior written permission. \n",
    "\n",
    "THIS SOFTWARE IS PROVIDED BY THE COPYRIGHT HOLDERS AND CONTRIBUTORS \"AS IS\" AND ANY EXPRESS OR IMPLIED WARRANTIES, \n",
    "INCLUDING, BUT NOT LIMITED TO, THE IMPLIED WARRANTIES OF MERCHANTABILITY AND FITNESS FOR A PARTICULAR PURPOSE ARE DISCLAIMED.  IN NO EVENT SHALL THE COPYRIGHT HOLDER NOR \n",
    "CONTRIBUTORS BE LIABLE FOR ANY DIRECT, INDIRECT, INCIDENTAL, SPECIAL, EXEMPLARY, OR CONSEQUENTIAL DAMAGES (INCLUDING, BUT NOT LIMITED TO, PROCUREMENT OF SUBSTITUTE GOODS OR SERVICES; \n",
    "LOSS OF USE, DATA, OR PROFITS; OR BUSINESS INTERRUPTION) HOWEVER CAUSED AND ON ANY THEORY OF LIABILITY, WHETHER IN CONTRACT, \n",
    "STRICT LIABILITY, OR TORT (INCLUDING NEGLIGENCE OR  OTHERWISE) ARISING IN ANY WAY OUT OF THE USE OF THIS SOFTWARE, EVEN IF ADVISED OF THE POSSIBILITY OF SUCH DAMAGE."
   ]
  },
  {
   "cell_type": "markdown",
   "metadata": {},
   "source": [
    "## Warning!!!\n",
    "\n",
    "**Due to how Jupyter I/O is implemented, any printout originating from the LARC C code will be directed to the Jupyter console window (i.e., the terminal window that you typed \"jupyter notebook\" in), instead of in the notebook cell itself.**"
   ]
  },
  {
   "cell_type": "code",
   "execution_count": 1,
   "metadata": {},
   "outputs": [],
   "source": [
    "import matplotlib\n",
    "import matplotlib.pyplot as plt\n",
    "import numpy as np\n",
    "\n",
    "# The following line doesn't seem to work in producing a\n",
    "# separate plot window under Ubuntu 18.04.\n",
    "%matplotlib qt"
   ]
  },
  {
   "cell_type": "code",
   "execution_count": 2,
   "metadata": {},
   "outputs": [],
   "source": [
    "# Load data files into Jupyter.\n",
    "potential = np.genfromtxt('Data/morsePot_L10_rmax5.0')\n",
    "evec0 = np.genfromtxt('Data/evecMorse_L10_rmax5.0')"
   ]
  },
  {
   "cell_type": "code",
   "execution_count": 5,
   "metadata": {},
   "outputs": [],
   "source": [
    "# Level used in generating the date.\n",
    "level = 10\n",
    "\n",
    "# Create equally spaced numbers from 0 to 5.\n",
    "r = np.linspace(0, 5, 2**level)\n",
    "\n",
    "# This is the calculated eigenvalue.\n",
    "eval0 = -3.997578381116\n",
    "\n",
    "# Create an array of 2**level copies of eval0.\n",
    "y = eval0*np.ones(2**level)"
   ]
  },
  {
   "cell_type": "code",
   "execution_count": 6,
   "metadata": {},
   "outputs": [],
   "source": [
    "fig, ax = plt.subplots()\n",
    "\n",
    "\n",
    "ax.plot(r, y, 'c--',linewidth=3)\n",
    "ax.plot(r, evec0 + y, 'c',linewidth=3)\n",
    "ax.plot(r, potential,'k',linewidth=3)\n",
    "\n",
    "xstr = 'distance between particles (%c)' % chr(197)\n",
    "plt.xlabel(xstr, fontsize=18)\n",
    "plt.ylabel('potential (eV)', fontsize=18)\n",
    "plt.annotate('state amplitude', (2.5,-3.75), fontsize=18)\n",
    "titlestr1 = 'Ground state of Morse potential for ${}^{40}$Ar-p interaction\\n'\n",
    "titlestr2 = 'D_e=4.17eV, r_e=1.28%c, α=1.85%c${}^{-1}$' % (chr(197), chr(197))\n",
    "plt.title(titlestr1 + titlestr2, fontsize=18, fontweight='bold')\n",
    "\n",
    "ax.set_xlim(0, 5)\n",
    "ax.set_ylim(-5, 2)\n",
    "\n",
    "plt.show()"
   ]
  },
  {
   "cell_type": "code",
   "execution_count": null,
   "metadata": {},
   "outputs": [],
   "source": []
  },
  {
   "cell_type": "code",
   "execution_count": null,
   "metadata": {},
   "outputs": [],
   "source": []
  }
 ],
 "metadata": {
  "kernelspec": {
   "display_name": "Python 3",
   "language": "python",
   "name": "python3"
  },
  "language_info": {
   "codemirror_mode": {
    "name": "ipython",
    "version": 3
   },
   "file_extension": ".py",
   "mimetype": "text/x-python",
   "name": "python",
   "nbconvert_exporter": "python",
   "pygments_lexer": "ipython3",
   "version": "3.7.6"
  }
 },
 "nbformat": 4,
 "nbformat_minor": 4
}
